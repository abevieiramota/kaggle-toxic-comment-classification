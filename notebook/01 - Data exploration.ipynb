{
 "cells": [
  {
   "cell_type": "code",
   "execution_count": 189,
   "metadata": {},
   "outputs": [],
   "source": [
    "import pandas as pd\n",
    "import numpy as np\n",
    "\n",
    "pd.set_option('max_colwidth',1000)\n",
    "\n",
    "class_names = ['toxic', 'severe_toxic', 'obscene', 'threat', 'insult', 'identity_hate']\n",
    "\n",
    "train = pd.read_csv('../data/train.csv').fillna(' ')"
   ]
  },
  {
   "cell_type": "code",
   "execution_count": 162,
   "metadata": {},
   "outputs": [
    {
     "name": "stdout",
     "output_type": "stream",
     "text": [
      "<class 'pandas.core.frame.DataFrame'>\n",
      "RangeIndex: 159571 entries, 0 to 159570\n",
      "Data columns (total 8 columns):\n",
      "id               159571 non-null object\n",
      "comment_text     159571 non-null object\n",
      "toxic            159571 non-null int64\n",
      "severe_toxic     159571 non-null int64\n",
      "obscene          159571 non-null int64\n",
      "threat           159571 non-null int64\n",
      "insult           159571 non-null int64\n",
      "identity_hate    159571 non-null int64\n",
      "dtypes: int64(6), object(2)\n",
      "memory usage: 9.7+ MB\n"
     ]
    }
   ],
   "source": [
    "train.info()"
   ]
  },
  {
   "cell_type": "code",
   "execution_count": 164,
   "metadata": {},
   "outputs": [
    {
     "data": {
      "text/plain": [
       "toxic  severe_toxic  obscene  threat  insult  identity_hate\n",
       "1      1             1        1       1       1                    31\n",
       "                                              0                    64\n",
       "                                      0       0                     4\n",
       "                              0       1       1                   265\n",
       "                                              0                   989\n",
       "                                      0       1                     6\n",
       "                                              0                   158\n",
       "                     0        1       1       0                     1\n",
       "                                      0       1                     1\n",
       "                                              0                    11\n",
       "                              0       1       1                     7\n",
       "                                              0                    14\n",
       "                                      0       1                     3\n",
       "                                              0                    41\n",
       "       0             1        1       1       1                    56\n",
       "                                              0                   131\n",
       "                                      0       0                    11\n",
       "                              0       1       1                   618\n",
       "                                              0                  3800\n",
       "                                      0       1                    35\n",
       "                                              0                  1758\n",
       "                     0        1       1       1                     3\n",
       "                                              0                    16\n",
       "                                      0       1                     7\n",
       "                                              0                   113\n",
       "                              0       1       1                   134\n",
       "                                              0                  1215\n",
       "                                      0       1                   136\n",
       "                                              0                  5666\n",
       "0      0             1        1       1       0                     2\n",
       "                                      0       0                     2\n",
       "                              0       1       1                    18\n",
       "                                              0                   181\n",
       "                                      0       1                     3\n",
       "                                              0                   317\n",
       "                     0        1       1       0                     3\n",
       "                                      0       0                    22\n",
       "                              0       1       1                    28\n",
       "                                              0                   301\n",
       "                                      0       1                    54\n",
       "                                              0                143346\n",
       "dtype: int64"
      ]
     },
     "execution_count": 164,
     "metadata": {},
     "output_type": "execute_result"
    }
   ],
   "source": [
    "train.groupby(class_names).size().sort_index(ascending=False)"
   ]
  },
  {
   "cell_type": "code",
   "execution_count": 212,
   "metadata": {},
   "outputs": [],
   "source": [
    "def print_row(row):\n",
    "    \n",
    "    print(row['comment_text'].values[0])\n",
    "    print(row.drop(columns=['comment_text']).T)\n",
    "    \n",
    "def print_sample(classes_to_include, n_else = 0):\n",
    "    \n",
    "    if not classes_to_include:\n",
    "        include_train = train\n",
    "    else:\n",
    "        include_train = train.query(' and '.join(['%s == 1' % clazz for clazz in classes_to_include]))\n",
    "    \n",
    "    else_query = include_train[train.columns.drop(classes_to_include)].sum(axis=1) == n_else\n",
    "    train_to_sample = include_train[else_query]\n",
    "        \n",
    "    if not len(train_to_sample):\n",
    "        print(\"There is not sample for classes %s and n_else = %d\" % (classes_to_include, n_else))\n",
    "        return \n",
    "    \n",
    "    sample = train_to_sample.sample()\n",
    "    print_row(sample)"
   ]
  },
  {
   "cell_type": "markdown",
   "metadata": {},
   "source": [
    "# Pure toxic"
   ]
  },
  {
   "cell_type": "code",
   "execution_count": 213,
   "metadata": {},
   "outputs": [
    {
     "name": "stdout",
     "output_type": "stream",
     "text": [
      "I hate you soooooooooooooooooooooooooooooooooooooooooooooooooooooooooooo much.\n",
      "                          39585\n",
      "id             69aa356f25ba735a\n",
      "toxic                         1\n",
      "severe_toxic                  0\n",
      "obscene                       0\n",
      "threat                        0\n",
      "insult                        0\n",
      "identity_hate                 0\n"
     ]
    }
   ],
   "source": [
    "print_sample(classes_to_include=['toxic'])"
   ]
  },
  {
   "cell_type": "markdown",
   "metadata": {},
   "source": [
    "# Pure severe_toxic\n",
    "\n",
    "there isn't, so let's try some combination"
   ]
  },
  {
   "cell_type": "code",
   "execution_count": 214,
   "metadata": {},
   "outputs": [
    {
     "name": "stdout",
     "output_type": "stream",
     "text": [
      "I am going to shoot you in the head and laugh as your brains splatter onto the ground. \n",
      "\n",
      "I am going to shoot you in the head and laugh as your brains splatter onto the ground.\n",
      "                         137153\n",
      "id             ddd12fdf77d62f56\n",
      "toxic                         1\n",
      "severe_toxic                  1\n",
      "obscene                       0\n",
      "threat                        0\n",
      "insult                        0\n",
      "identity_hate                 0\n"
     ]
    }
   ],
   "source": [
    "print_sample(classes_to_include=['severe_toxic'], n_else=1)"
   ]
  },
  {
   "cell_type": "markdown",
   "metadata": {},
   "source": [
    "# Pure obscene"
   ]
  },
  {
   "cell_type": "code",
   "execution_count": 215,
   "metadata": {},
   "outputs": [
    {
     "name": "stdout",
     "output_type": "stream",
     "text": [
      "DONT BREAK WP:3RR BIATCH\n",
      "                          21000\n",
      "id             37707ececa862361\n",
      "toxic                         0\n",
      "severe_toxic                  0\n",
      "obscene                       1\n",
      "threat                        0\n",
      "insult                        0\n",
      "identity_hate                 0\n"
     ]
    }
   ],
   "source": [
    "print_sample(classes_to_include=['obscene'])"
   ]
  },
  {
   "cell_type": "markdown",
   "metadata": {},
   "source": [
    "# Pure threat"
   ]
  },
  {
   "cell_type": "code",
   "execution_count": 216,
   "metadata": {},
   "outputs": [
    {
     "name": "stdout",
     "output_type": "stream",
     "text": [
      "Wikistalking \n",
      "\n",
      "Unless you wish to be targeted yourself in a similar manner to Deskana I suggest to cease stalking me and reverting my edits at once\n",
      "                          53841\n",
      "id             8fd45641216fdfde\n",
      "toxic                         0\n",
      "severe_toxic                  0\n",
      "obscene                       0\n",
      "threat                        1\n",
      "insult                        0\n",
      "identity_hate                 0\n"
     ]
    }
   ],
   "source": [
    "print_sample(classes_to_include=['threat'])"
   ]
  },
  {
   "cell_type": "markdown",
   "metadata": {},
   "source": [
    "# Pure insult"
   ]
  },
  {
   "cell_type": "code",
   "execution_count": 217,
   "metadata": {},
   "outputs": [
    {
     "name": "stdout",
     "output_type": "stream",
     "text": [
      "You are a POTHEAD ... COLSCOTT is a GENIOUS !!!!\n",
      "                          60116\n",
      "id             a0e8a9f87c61a501\n",
      "toxic                         0\n",
      "severe_toxic                  0\n",
      "obscene                       0\n",
      "threat                        0\n",
      "insult                        1\n",
      "identity_hate                 0\n"
     ]
    }
   ],
   "source": [
    "print_sample(classes_to_include=['insult'])"
   ]
  },
  {
   "cell_type": "markdown",
   "metadata": {},
   "source": [
    "# Pure identity_hate"
   ]
  },
  {
   "cell_type": "code",
   "execution_count": 218,
   "metadata": {},
   "outputs": [
    {
     "name": "stdout",
     "output_type": "stream",
     "text": [
      "Why is your wiener so small? \n",
      "\n",
      "It is because you are Asian?\n",
      "                          42109\n",
      "id             705a5e4f12d17cad\n",
      "toxic                         0\n",
      "severe_toxic                  0\n",
      "obscene                       0\n",
      "threat                        0\n",
      "insult                        0\n",
      "identity_hate                 1\n"
     ]
    }
   ],
   "source": [
    "print_sample(classes_to_include=['identity_hate'])"
   ]
  },
  {
   "cell_type": "markdown",
   "metadata": {},
   "source": [
    "# Pure nothing"
   ]
  },
  {
   "cell_type": "code",
   "execution_count": 219,
   "metadata": {},
   "outputs": [
    {
     "name": "stdout",
     "output_type": "stream",
     "text": [
      "The point of the long quote of Cahill, from his book, was to show that it's clear what he said, and it was in context.     And also, to make the point to Jeffro77 that Cahill alone originally was my source for the edit, not really Wilson.  The Wilson quote and ref came later on...only because of Jeppiz's demanding another source on this Talk page etc, etc.    That was really all.    My long comment above was mainly (though not exclusively) to Jeffro77, because of certain things he commented and wrote above.\n",
      "                         120732\n",
      "id             85dc871f2bf8e110\n",
      "toxic                         0\n",
      "severe_toxic                  0\n",
      "obscene                       0\n",
      "threat                        0\n",
      "insult                        0\n",
      "identity_hate                 0\n"
     ]
    }
   ],
   "source": [
    "print_sample(classes_to_include=[])"
   ]
  },
  {
   "cell_type": "code",
   "execution_count": null,
   "metadata": {},
   "outputs": [],
   "source": []
  }
 ],
 "metadata": {
  "kernelspec": {
   "display_name": "Python 3",
   "language": "python",
   "name": "python3"
  },
  "language_info": {
   "codemirror_mode": {
    "name": "ipython",
    "version": 3
   },
   "file_extension": ".py",
   "mimetype": "text/x-python",
   "name": "python",
   "nbconvert_exporter": "python",
   "pygments_lexer": "ipython3",
   "version": "3.6.4"
  }
 },
 "nbformat": 4,
 "nbformat_minor": 2
}
